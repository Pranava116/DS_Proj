{
 "cells": [
  {
   "cell_type": "code",
   "execution_count": null,
   "id": "5e3c89b5-8410-4878-9c3b-4b64e0dac22b",
   "metadata": {},
   "outputs": [
    {
     "name": "stdout",
     "output_type": "stream",
     "text": [
      "Reward: 105.0\n"
     ]
    }
   ],
   "source": [
    "\"\"\"this file makes random moves and is used to compare and act as baselines for other models \"\"\" \n",
    "import gym\n",
    "import random\n",
    "random.seed(0)\n",
    "num_episodes = 10\n",
    "def main():\n",
    "    env = gym.make('SpaceInvaders-v0',render_mode=\"human\")\n",
    "    env.seed(0)\n",
    "    rewards = []\n",
    "    for _ in range(num_episodes):\n",
    "        env.reset()\n",
    "        episode_reward = 0\n",
    "        while True:\n",
    "            action = env.action_space.sample()\n",
    "            observation, reward, done, info = env.step(action)\n",
    "            episode_reward += reward\n",
    "            if done:\n",
    "                print('Reward: %s' % episode_reward)\n",
    "                rewards.append(episode_reward)\n",
    "                break\n",
    "    print('Average reward: %0.2f' % (sum(rewards)/len(rewards)))\n",
    "\n",
    "if __name__ == '__main__':\n",
    "    main()\n"
   ]
  },
  {
   "cell_type": "code",
   "execution_count": 17,
   "id": "b9f5c599-cb9c-43ba-8100-9c243e3f62b1",
   "metadata": {},
   "outputs": [
    {
     "name": "stdout",
     "output_type": "stream",
     "text": [
      "Requirement already satisfied: gym[accept-rom-license,atari] in c:\\users\\pranava g rao\\appdata\\local\\programs\\python\\python39\\lib\\site-packages (0.21.0)\n",
      "Requirement already satisfied: numpy>=1.18.0 in c:\\users\\pranava g rao\\appdata\\local\\programs\\python\\python39\\lib\\site-packages (from gym[accept-rom-license,atari]) (1.26.4)\n",
      "Requirement already satisfied: cloudpickle>=1.2.0 in c:\\users\\pranava g rao\\appdata\\local\\programs\\python\\python39\\lib\\site-packages (from gym[accept-rom-license,atari]) (3.1.1)\n",
      "Requirement already satisfied: autorom[accept-rom-license]~=0.4.2 in c:\\users\\pranava g rao\\appdata\\local\\programs\\python\\python39\\lib\\site-packages (from gym[accept-rom-license,atari]) (0.4.2)\n",
      "Requirement already satisfied: ale-py~=0.7.1 in c:\\users\\pranava g rao\\appdata\\local\\programs\\python\\python39\\lib\\site-packages (from gym[accept-rom-license,atari]) (0.7.5)\n",
      "Requirement already satisfied: importlib-metadata>=4.10.0 in c:\\users\\pranava g rao\\appdata\\local\\programs\\python\\python39\\lib\\site-packages (from ale-py~=0.7.1->gym[accept-rom-license,atari]) (8.6.1)\n",
      "Requirement already satisfied: importlib-resources in c:\\users\\pranava g rao\\appdata\\local\\programs\\python\\python39\\lib\\site-packages (from ale-py~=0.7.1->gym[accept-rom-license,atari]) (6.5.2)\n",
      "Requirement already satisfied: click in c:\\users\\pranava g rao\\appdata\\local\\programs\\python\\python39\\lib\\site-packages (from autorom[accept-rom-license]~=0.4.2->gym[accept-rom-license,atari]) (8.1.8)\n",
      "Requirement already satisfied: requests in c:\\users\\pranava g rao\\appdata\\local\\programs\\python\\python39\\lib\\site-packages (from autorom[accept-rom-license]~=0.4.2->gym[accept-rom-license,atari]) (2.32.3)\n",
      "Requirement already satisfied: tqdm in c:\\users\\pranava g rao\\appdata\\local\\programs\\python\\python39\\lib\\site-packages (from autorom[accept-rom-license]~=0.4.2->gym[accept-rom-license,atari]) (4.67.1)\n",
      "Requirement already satisfied: AutoROM.accept-rom-license in c:\\users\\pranava g rao\\appdata\\local\\programs\\python\\python39\\lib\\site-packages (from autorom[accept-rom-license]~=0.4.2->gym[accept-rom-license,atari]) (0.6.1)\n",
      "Requirement already satisfied: zipp>=3.20 in c:\\users\\pranava g rao\\appdata\\local\\programs\\python\\python39\\lib\\site-packages (from importlib-metadata>=4.10.0->ale-py~=0.7.1->gym[accept-rom-license,atari]) (3.21.0)\n",
      "Requirement already satisfied: colorama in c:\\users\\pranava g rao\\appdata\\local\\programs\\python\\python39\\lib\\site-packages (from click->autorom[accept-rom-license]~=0.4.2->gym[accept-rom-license,atari]) (0.4.6)\n",
      "Requirement already satisfied: charset-normalizer<4,>=2 in c:\\users\\pranava g rao\\appdata\\local\\programs\\python\\python39\\lib\\site-packages (from requests->autorom[accept-rom-license]~=0.4.2->gym[accept-rom-license,atari]) (3.4.1)\n",
      "Requirement already satisfied: idna<4,>=2.5 in c:\\users\\pranava g rao\\appdata\\local\\programs\\python\\python39\\lib\\site-packages (from requests->autorom[accept-rom-license]~=0.4.2->gym[accept-rom-license,atari]) (3.10)\n",
      "Requirement already satisfied: urllib3<3,>=1.21.1 in c:\\users\\pranava g rao\\appdata\\local\\programs\\python\\python39\\lib\\site-packages (from requests->autorom[accept-rom-license]~=0.4.2->gym[accept-rom-license,atari]) (2.3.0)\n",
      "Requirement already satisfied: certifi>=2017.4.17 in c:\\users\\pranava g rao\\appdata\\local\\programs\\python\\python39\\lib\\site-packages (from requests->autorom[accept-rom-license]~=0.4.2->gym[accept-rom-license,atari]) (2025.1.31)\n",
      "Note: you may need to restart the kernel to use updated packages.\n"
     ]
    },
    {
     "name": "stderr",
     "output_type": "stream",
     "text": [
      "WARNING: You are using pip version 22.0.4; however, version 25.2 is available.\n",
      "You should consider upgrading via the 'C:\\Users\\Pranava G Rao\\AppData\\Local\\Programs\\Python\\Python39\\python.exe -m pip install --upgrade pip' command.\n"
     ]
    }
   ],
   "source": [
    "pip install gym[atari,accept-rom-license]"
   ]
  },
  {
   "cell_type": "code",
   "execution_count": null,
   "id": "7acc4426-bf7e-4385-bea1-04de14911c76",
   "metadata": {},
   "outputs": [],
   "source": []
  },
  {
   "cell_type": "code",
   "execution_count": null,
   "id": "88b0f7d8-22df-4248-bd99-3d55f56c49c8",
   "metadata": {},
   "outputs": [],
   "source": []
  }
 ],
 "metadata": {
  "kernelspec": {
   "display_name": "Python 3 (ipykernel)",
   "language": "python",
   "name": "python3"
  },
  "language_info": {
   "codemirror_mode": {
    "name": "ipython",
    "version": 3
   },
   "file_extension": ".py",
   "mimetype": "text/x-python",
   "name": "python",
   "nbconvert_exporter": "python",
   "pygments_lexer": "ipython3",
   "version": "3.9.13"
  }
 },
 "nbformat": 4,
 "nbformat_minor": 5
}
